{
  "nbformat": 4,
  "nbformat_minor": 0,
  "metadata": {
    "colab": {
      "provenance": []
    },
    "kernelspec": {
      "name": "python3",
      "display_name": "Python 3"
    },
    "language_info": {
      "name": "python"
    }
  },
  "cells": [
    {
      "cell_type": "code",
      "execution_count": null,
      "metadata": {
        "colab": {
          "base_uri": "https://localhost:8080/"
        },
        "id": "qKvWvtIcuYv8",
        "outputId": "bda5071c-8199-4d39-dc9a-37612f897f05"
      },
      "outputs": [
        {
          "output_type": "stream",
          "name": "stdout",
          "text": [
            "hi\n"
          ]
        }
      ],
      "source": [
        "print('hi')"
      ]
    },
    {
      "cell_type": "code",
      "source": [
        "import numpy as np\n",
        "list1=[1,2,3]\n",
        "array1=np.array(list1)\n",
        "print('list=',list1)\n",
        "print('array=',array1)\n",
        "type(list1)\n",
        "type(array1)"
      ],
      "metadata": {
        "colab": {
          "base_uri": "https://localhost:8080/"
        },
        "id": "Q49XPJdnurG3",
        "outputId": "07b7abb3-0242-4696-b5f1-8a09224490b5"
      },
      "execution_count": null,
      "outputs": [
        {
          "output_type": "stream",
          "name": "stdout",
          "text": [
            "list= [1, 2, 3]\n",
            "array= [1 2 3]\n"
          ]
        },
        {
          "output_type": "execute_result",
          "data": {
            "text/plain": [
              "numpy.ndarray"
            ]
          },
          "metadata": {},
          "execution_count": 3
        }
      ]
    },
    {
      "cell_type": "code",
      "source": [
        "type(list1)\n"
      ],
      "metadata": {
        "colab": {
          "base_uri": "https://localhost:8080/"
        },
        "id": "JVO2Sz6uv8Bi",
        "outputId": "503d8934-0f42-41f4-abd1-dc6675ed234b"
      },
      "execution_count": null,
      "outputs": [
        {
          "output_type": "execute_result",
          "data": {
            "text/plain": [
              "list"
            ]
          },
          "metadata": {},
          "execution_count": 4
        }
      ]
    },
    {
      "cell_type": "code",
      "source": [
        "type(array1)"
      ],
      "metadata": {
        "colab": {
          "base_uri": "https://localhost:8080/"
        },
        "id": "le6ihQZnwIU2",
        "outputId": "0e31e731-67a4-43c3-a7a3-29c129e3e62b"
      },
      "execution_count": null,
      "outputs": [
        {
          "output_type": "execute_result",
          "data": {
            "text/plain": [
              "numpy.ndarray"
            ]
          },
          "metadata": {},
          "execution_count": 5
        }
      ]
    },
    {
      "cell_type": "code",
      "source": [
        "import numpy as np\n",
        "array1=np.array([10,20,30])\n",
        "array2=np.array([2,2,2])\n",
        "\n",
        "print(\"array2 multiplied by array1:\",array1*array2)\n",
        "print(\"array2 divided by array1:\",array2/array1)\n",
        "print(\"array2 raised to the power of array1:\",array2**array1)\n",
        "print(\"adding to numpy  as arrays(array1 and array2 together)\",array1+array2)\n"
      ],
      "metadata": {
        "colab": {
          "base_uri": "https://localhost:8080/"
        },
        "id": "sUVtfHrHwtnj",
        "outputId": "a0dd95b9-88f1-4f30-aef4-7f4ea3e13d07"
      },
      "execution_count": null,
      "outputs": [
        {
          "output_type": "stream",
          "name": "stdout",
          "text": [
            "array2 multiplied by array1: [20 40 60]\n",
            "array2 divided by array1: [0.2        0.1        0.06666667]\n",
            "array2 raised to the power of array1: [      1024    1048576 1073741824]\n",
            "adding to numpy  as arrays(array1 and array2 together) [12 22 32]\n"
          ]
        }
      ]
    },
    {
      "cell_type": "code",
      "source": [
        "import numpy as np\n",
        "\n",
        "def main():\n",
        "    # Generate two arrays\n",
        "    array1 = np.array([[1, 2, 3], [4, 5, 6]])\n",
        "    array2 = np.array([[7, 8, 9], [10, 11, 12]])\n",
        "\n",
        "    # Perform addition\n",
        "    result_array = np.add(array1, array2)\n",
        "\n",
        "    # Display the textual output\n",
        "    print(f\"Addition of two arrays:\\n{array1} + {array2} =\\n{result_array}\")\n",
        "\n",
        "if __name__ == \"__main__\":\n",
        "    main()\n"
      ],
      "metadata": {
        "colab": {
          "base_uri": "https://localhost:8080/"
        },
        "id": "GCyIXu2v11Dk",
        "outputId": "b63c4e9a-dd20-427a-a284-2d35d41cd95e"
      },
      "execution_count": null,
      "outputs": [
        {
          "output_type": "stream",
          "name": "stdout",
          "text": [
            "Addition of two arrays:\n",
            "[[1 2 3]\n",
            " [4 5 6]] + [[ 7  8  9]\n",
            " [10 11 12]] =\n",
            "[[ 8 10 12]\n",
            " [14 16 18]]\n"
          ]
        }
      ]
    },
    {
      "cell_type": "code",
      "source": [
        "import numpy as np\n",
        "array1=np.array([10,20,30])\n",
        "#sine function\n",
        "print(\"sine: \",np.sin(array1))\n",
        "#logarithm\n",
        "print(\"natural logarithm: \",np.log(array1))\n",
        "print(\"base-10 logarithm: \",np.log10(array1))\n",
        "print(\"base-2 logarithm: \",np.log2(array1))\n",
        "#exponential\n",
        "print(\"exponential: \",np.exp(array1))"
      ],
      "metadata": {
        "colab": {
          "base_uri": "https://localhost:8080/"
        },
        "id": "6jfPf2CU22HM",
        "outputId": "f0fe8d60-e98c-4313-89d8-a4f9f3132ee3"
      },
      "execution_count": null,
      "outputs": [
        {
          "output_type": "stream",
          "name": "stdout",
          "text": [
            "sine:  [-0.54402111  0.91294525 -0.98803162]\n",
            "natural logarithm:  [2.30258509 2.99573227 3.40119738]\n",
            "base-10 logarithm:  [1.         1.30103    1.47712125]\n",
            "base-2 logarithm:  [3.32192809 4.32192809 4.9068906 ]\n",
            "exponential:  [2.20264658e+04 4.85165195e+08 1.06864746e+13]\n"
          ]
        }
      ]
    }
  ]
}